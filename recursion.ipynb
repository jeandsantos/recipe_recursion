{
 "cells": [
  {
   "cell_type": "code",
   "execution_count": 16,
   "source": [
    "# With memoization\r\n",
    "fibonacci_cache = {}\r\n",
    "\r\n",
    "def fibonacci(n):\r\n",
    "    \r\n",
    "    if n in fibonacci_cache:\r\n",
    "        return fibonacci_cache[n]\r\n",
    "    \r\n",
    "    if n == 1:\r\n",
    "        return 1\r\n",
    "    elif n == 2:\r\n",
    "        return 1\r\n",
    "    elif n > 2:\r\n",
    "        value = fibonacci(n-1) + fibonacci(n-2)\r\n",
    "        \r\n",
    "    fibonacci_cache[n] = value\r\n",
    "    return value\r\n",
    "    \r\n",
    "\r\n",
    "for n in range(1, 100):\r\n",
    "    print(f\"{n}: {fibonacci(n)}\")"
   ],
   "outputs": [
    {
     "output_type": "stream",
     "name": "stdout",
     "text": [
      "1: 1\n",
      "2: 1\n",
      "3: 2\n",
      "4: 3\n",
      "5: 5\n",
      "6: 8\n",
      "7: 13\n",
      "8: 21\n",
      "9: 34\n",
      "10: 55\n",
      "11: 89\n",
      "12: 144\n",
      "13: 233\n",
      "14: 377\n",
      "15: 610\n",
      "16: 987\n",
      "17: 1597\n",
      "18: 2584\n",
      "19: 4181\n",
      "20: 6765\n",
      "21: 10946\n",
      "22: 17711\n",
      "23: 28657\n",
      "24: 46368\n",
      "25: 75025\n",
      "26: 121393\n",
      "27: 196418\n",
      "28: 317811\n",
      "29: 514229\n",
      "30: 832040\n",
      "31: 1346269\n",
      "32: 2178309\n",
      "33: 3524578\n",
      "34: 5702887\n",
      "35: 9227465\n",
      "36: 14930352\n",
      "37: 24157817\n",
      "38: 39088169\n",
      "39: 63245986\n",
      "40: 102334155\n",
      "41: 165580141\n",
      "42: 267914296\n",
      "43: 433494437\n",
      "44: 701408733\n",
      "45: 1134903170\n",
      "46: 1836311903\n",
      "47: 2971215073\n",
      "48: 4807526976\n",
      "49: 7778742049\n",
      "50: 12586269025\n",
      "51: 20365011074\n",
      "52: 32951280099\n",
      "53: 53316291173\n",
      "54: 86267571272\n",
      "55: 139583862445\n",
      "56: 225851433717\n",
      "57: 365435296162\n",
      "58: 591286729879\n",
      "59: 956722026041\n",
      "60: 1548008755920\n",
      "61: 2504730781961\n",
      "62: 4052739537881\n",
      "63: 6557470319842\n",
      "64: 10610209857723\n",
      "65: 17167680177565\n",
      "66: 27777890035288\n",
      "67: 44945570212853\n",
      "68: 72723460248141\n",
      "69: 117669030460994\n",
      "70: 190392490709135\n",
      "71: 308061521170129\n",
      "72: 498454011879264\n",
      "73: 806515533049393\n",
      "74: 1304969544928657\n",
      "75: 2111485077978050\n",
      "76: 3416454622906707\n",
      "77: 5527939700884757\n",
      "78: 8944394323791464\n",
      "79: 14472334024676221\n",
      "80: 23416728348467685\n",
      "81: 37889062373143906\n",
      "82: 61305790721611591\n",
      "83: 99194853094755497\n",
      "84: 160500643816367088\n",
      "85: 259695496911122585\n",
      "86: 420196140727489673\n",
      "87: 679891637638612258\n",
      "88: 1100087778366101931\n",
      "89: 1779979416004714189\n",
      "90: 2880067194370816120\n",
      "91: 4660046610375530309\n",
      "92: 7540113804746346429\n",
      "93: 12200160415121876738\n",
      "94: 19740274219868223167\n",
      "95: 31940434634990099905\n",
      "96: 51680708854858323072\n",
      "97: 83621143489848422977\n",
      "98: 135301852344706746049\n",
      "99: 218922995834555169026\n"
     ]
    }
   ],
   "metadata": {}
  },
  {
   "cell_type": "code",
   "execution_count": 29,
   "source": [
    "from functools import lru_cache\r\n",
    "\r\n",
    "# With memoization\r\n",
    "@lru_cache(maxsize = 1000)\r\n",
    "def fibonacci(n):\r\n",
    "   \r\n",
    "    if type(n) != int:\r\n",
    "        raise TypeError(\"n must be a positive int\")\r\n",
    "    if n < 1:\r\n",
    "        raise TypeError(\"n must be a positive int\")\r\n",
    "   \r\n",
    "    if n == 1:\r\n",
    "        return 1\r\n",
    "    elif n == 2:\r\n",
    "        return 1\r\n",
    "    elif n > 2:\r\n",
    "        return fibonacci(n-1) + fibonacci(n-2)\r\n",
    "\r\n",
    "for n in range(1, 30):\r\n",
    "    print(f\"{n}: {fibonacci(n)}\")"
   ],
   "outputs": [
    {
     "output_type": "stream",
     "name": "stdout",
     "text": [
      "1: 1\n",
      "2: 1\n",
      "3: 2\n",
      "4: 3\n",
      "5: 5\n",
      "6: 8\n",
      "7: 13\n",
      "8: 21\n",
      "9: 34\n",
      "10: 55\n",
      "11: 89\n",
      "12: 144\n",
      "13: 233\n",
      "14: 377\n",
      "15: 610\n",
      "16: 987\n",
      "17: 1597\n",
      "18: 2584\n",
      "19: 4181\n",
      "20: 6765\n",
      "21: 10946\n",
      "22: 17711\n",
      "23: 28657\n",
      "24: 46368\n",
      "25: 75025\n",
      "26: 121393\n",
      "27: 196418\n",
      "28: 317811\n",
      "29: 514229\n"
     ]
    }
   ],
   "metadata": {}
  },
  {
   "cell_type": "code",
   "execution_count": 40,
   "source": [
    "def get_factorial(n):\r\n",
    "    \r\n",
    "    if type(n) != int:\r\n",
    "        raise TypeError(\"n must be a positive int\")\r\n",
    "    if n < 1:\r\n",
    "        raise TypeError(\"n must be a positive int\")\r\n",
    "        \r\n",
    "    factorial = 1\r\n",
    "    for x in range(1, n+1):\r\n",
    "        factorial = factorial * x\r\n",
    "        \r\n",
    "    return factorial\r\n",
    "\r\n",
    "get_factorial(5)"
   ],
   "outputs": [
    {
     "output_type": "execute_result",
     "data": {
      "text/plain": [
       "120"
      ]
     },
     "metadata": {},
     "execution_count": 40
    }
   ],
   "metadata": {}
  },
  {
   "cell_type": "code",
   "execution_count": 56,
   "source": [
    "def get_iterative_factorial(n):\r\n",
    "    \r\n",
    "    if type(n) != int:\r\n",
    "        raise TypeError(\"n must be a positive int\")\r\n",
    "    \r\n",
    "    value = 1\r\n",
    "    for x in range(1, n+1):\r\n",
    "        value *= x\r\n",
    "    \r\n",
    "    return value   \r\n",
    "\r\n",
    "print(get_iterative_factorial(5))\r\n",
    "\r\n",
    "def get_recursive_factorial(n):\r\n",
    "    \r\n",
    "    if type(n) != int:\r\n",
    "        raise TypeError(\"n must be a positive int\")\r\n",
    "    \r\n",
    "    if n < 2:\r\n",
    "        return 1\r\n",
    "    else:\r\n",
    "        return n * get_factorial(n-1)\r\n",
    "\r\n",
    "print(get_recursive_factorial(5))"
   ],
   "outputs": [
    {
     "output_type": "stream",
     "name": "stdout",
     "text": [
      "120\n",
      "120\n"
     ]
    }
   ],
   "metadata": {}
  },
  {
   "cell_type": "code",
   "execution_count": 59,
   "source": [
    "def move(f,t):\r\n",
    "    print(\"Move disc from {} to {}\".format(f,t))\r\n",
    "\r\n",
    "move(\"A\", \"B\")\r\n",
    "    \r\n",
    "def move_via(f, v, t):\r\n",
    "    move(f,v)\r\n",
    "    move(v,t)\r\n",
    "    \r\n",
    "move_via(\"A\", \"B\", \"C\")\r\n"
   ],
   "outputs": [
    {
     "output_type": "stream",
     "name": "stdout",
     "text": [
      "Move disc from A to B\n",
      "Move disc from A to B\n",
      "Move disc from B to C\n"
     ]
    }
   ],
   "metadata": {}
  },
  {
   "cell_type": "code",
   "execution_count": 64,
   "source": [
    "def hanoi(n_disks, initial, helper, target):\r\n",
    "    if n_disks == 0:\r\n",
    "        pass\r\n",
    "    else:\r\n",
    "        hanoi(n_disks-1, initial, target, helper)\r\n",
    "        move(initial, target)\r\n",
    "        hanoi(n_disks-1, helper, initial, target)\r\n",
    "        \r\n",
    "hanoi(4, \"A\", \"B\", \"C\")"
   ],
   "outputs": [
    {
     "output_type": "stream",
     "name": "stdout",
     "text": [
      "Move disc from A to B\n",
      "Move disc from A to C\n",
      "Move disc from B to C\n",
      "Move disc from A to B\n",
      "Move disc from C to A\n",
      "Move disc from C to B\n",
      "Move disc from A to B\n",
      "Move disc from A to C\n",
      "Move disc from B to C\n",
      "Move disc from B to A\n",
      "Move disc from C to A\n",
      "Move disc from B to C\n",
      "Move disc from A to B\n",
      "Move disc from A to C\n",
      "Move disc from B to C\n"
     ]
    }
   ],
   "metadata": {}
  }
 ],
 "metadata": {
  "orig_nbformat": 4,
  "language_info": {
   "name": "python",
   "version": "3.7.10",
   "mimetype": "text/x-python",
   "codemirror_mode": {
    "name": "ipython",
    "version": 3
   },
   "pygments_lexer": "ipython3",
   "nbconvert_exporter": "python",
   "file_extension": ".py"
  },
  "kernelspec": {
   "name": "python3",
   "display_name": "Python 3.7.10 64-bit ('base': conda)"
  },
  "interpreter": {
   "hash": "89a122c233c58fef0b8e41addbc90a2360944a3047340dcc5cda5f5f3b3f5f68"
  }
 },
 "nbformat": 4,
 "nbformat_minor": 2
}